{
  "nbformat": 4,
  "nbformat_minor": 0,
  "metadata": {
    "colab": {
      "provenance": [],
      "authorship_tag": "ABX9TyOAIveX79k8ifp9t80VsVda"
    },
    "kernelspec": {
      "name": "python3",
      "display_name": "Python 3"
    },
    "language_info": {
      "name": "python"
    }
  },
  "cells": [
    {
      "cell_type": "code",
      "execution_count": 9,
      "metadata": {
        "colab": {
          "base_uri": "https://localhost:8080/"
        },
        "id": "1v-RvhcM9Wv-",
        "outputId": "bebd64d7-c3f7-47cc-9cf9-4a94589c8651"
      },
      "outputs": [
        {
          "output_type": "stream",
          "name": "stdout",
          "text": [
            "/usr/local/bin/python\n",
            "Python 3.8.16\n"
          ]
        }
      ],
      "source": [
        "#%pip show PyYaml\n",
        "!which python\n",
        "!python --version"
      ]
    }
  ]
}